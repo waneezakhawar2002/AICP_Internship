{
 "cells": [
  {
   "cell_type": "code",
   "execution_count": 36,
   "id": "43c89023",
   "metadata": {},
   "outputs": [
    {
     "name": "stdout",
     "output_type": "stream",
     "text": [
      "There are 3 charity systems: Al-Khidmat_1, Edhi_2, Kaar-e-Kamal_3.\n",
      "Enter the number of Charity that you want to choose (1,2,3): 2\n",
      "Enter your shopping bill's value: 4857\n",
      "Donation is Rs.48.57\n"
     ]
    }
   ],
   "source": [
    "# TASK 1\n",
    "charity1 = 0\n",
    "charity2 = 0\n",
    "charity3 = 0\n",
    "\n",
    "print(\"There are 3 charity systems: Al-Khidmat_1, Edhi_2, Kaar-e-Kamal_3.\")\n",
    "num = int(input(\"Enter the number of Charity that you want to choose (1,2,3): \"))\n",
    "if (num!=1 and num!=2 and num!=3):\n",
    "    raise Exception(\"Invalid Charity Number!\")\n",
    "value = float(input(\"Enter your shopping bill's value: \"))\n",
    "\n",
    "donation = 0.01*value\n",
    "print(f\"Donation is Rs.{donation}\")"
   ]
  },
  {
   "cell_type": "code",
   "execution_count": null,
   "id": "1fbd4b4f",
   "metadata": {},
   "outputs": [
    {
     "name": "stdout",
     "output_type": "stream",
     "text": [
      "There are 3 charity systems: Al-Khidmat_1, Edhi_2, Kaar-e-Kamal_3.\n",
      "Enter the number of Charity that you want to choose (1,2,3): 1\n"
     ]
    }
   ],
   "source": [
    "# TASK 2\n",
    "charity1 = 0\n",
    "charity2 = 0\n",
    "charity3 = 0\n",
    "\n",
    "print(\"There are 3 charity systems: Al-Khidmat_1, Edhi_2, Kaar-e-Kamal_3.\")\n",
    "num = int(input(\"Enter the number of Charity that you want to choose (1,2,3): \"))\n",
    "if (num!=1 and num!=2 and num!=3):\n",
    "    raise Exception(\"Invalid Charity Number!\")\n",
    "value = float(input(\"Enter your shopping bill's value: \"))\n",
    "\n",
    "donation = (0.01*value)\n",
    "\n",
    "if (num==1):\n",
    "    charity1 = charity1 + donation\n",
    "    charity = 'Al-Khidmat_1'\n",
    "elif (num==2):\n",
    "    charity2 = charity2 + donation\n",
    "    charity = 'Edhi_2'\n",
    "elif (num==3):\n",
    "    charity3 = charity3 + donation\n",
    "    charity = 'Kaar-e-Kamal_3'\n",
    "    \n",
    "print(f\"\\nName of Charity is {charity}\")\n",
    "print(f\"Amount of Donation is Rs. {donation}\")"
   ]
  },
  {
   "cell_type": "code",
   "execution_count": 35,
   "id": "ac5b8626",
   "metadata": {
    "scrolled": true
   },
   "outputs": [
    {
     "name": "stdout",
     "output_type": "stream",
     "text": [
      "\n",
      "WELCOME CUSTOMER!\n",
      "Enter your shopping bill's value: 5846\n",
      "There are 3 charity systems: Al-Khidmat_1, Edhi_2, Kaar-e-Kamal_3.\n",
      "Enter the number of Charity that you want to choose (1,2,3) OR Enter -1 to see the charities collected till now: 1\n",
      "\n",
      "Name of Charity is Al-Khidmat_1\n",
      "Amount of Donation is Rs. 58.46\n",
      "\n",
      "Are there any more customers? (Y/N)\n",
      "y\n",
      "\n",
      "WELCOME CUSTOMER!\n",
      "Enter your shopping bill's value: 548632\n",
      "There are 3 charity systems: Al-Khidmat_1, Edhi_2, Kaar-e-Kamal_3.\n",
      "Enter the number of Charity that you want to choose (1,2,3) OR Enter -1 to see the charities collected till now: 2\n",
      "\n",
      "Name of Charity is Edhi_2\n",
      "Amount of Donation is Rs. 5486.32\n",
      "\n",
      "Are there any more customers? (Y/N)\n",
      "y\n",
      "\n",
      "WELCOME CUSTOMER!\n",
      "Enter your shopping bill's value: 456987\n",
      "There are 3 charity systems: Al-Khidmat_1, Edhi_2, Kaar-e-Kamal_3.\n",
      "Enter the number of Charity that you want to choose (1,2,3) OR Enter -1 to see the charities collected till now: 3\n",
      "\n",
      "Name of Charity is Kaar-e-Kamal_3\n",
      "Amount of Donation is Rs. 4569.87\n",
      "\n",
      "Are there any more customers? (Y/N)\n",
      "n\n",
      "The Charities and their totals:\n",
      "Edhi_2 : 5486.32\n",
      "Kaar-e-Kamal_3 : 4569.87\n",
      "Al-Khidmat_1 : 58.46\n",
      "GRAND TOTAL DONATED TO CHARITY: Rs. 10114.65\n"
     ]
    }
   ],
   "source": [
    "# TASK 3\n",
    "charity1 = 0\n",
    "charity2 = 0\n",
    "charity3 = 0\n",
    "\n",
    "while (True):\n",
    "    print(\"\\nWELCOME CUSTOMER!\")\n",
    "    value = float(input(\"Enter your shopping bill's value: \"))\n",
    "\n",
    "    donation = (0.01*value)\n",
    "    \n",
    "    print(\"There are 3 charity systems: Al-Khidmat_1, Edhi_2, Kaar-e-Kamal_3.\")\n",
    "    num = int(input(\"Enter the number of Charity that you want to choose (1,2,3) OR Enter -1 to see the charities collected till now: \"))\n",
    "    if (num!=1 and num!=2 and num!=3 and num!=-1):\n",
    "        print(\"Invalid Charity Number!\")\n",
    "        print(\"Please try again!\")\n",
    "        continue\n",
    "        \n",
    "    elif (num==-1):\n",
    "        dic = {'Al-Khidmat_1'  : charity1,\n",
    "               'Edhi_2'        : charity2, \n",
    "               'Kaar-e-Kamal_3': charity3}\n",
    "        dic = list(sorted(dic.items(), key = lambda item:item[1], reverse = True))\n",
    "        print(\"The Charities collected so far:\")\n",
    "        print(f\"{dic[0][0]} : {dic[0][1]}\")\n",
    "        print(f\"{dic[1][0]} : {dic[1][1]}\")\n",
    "        print(f\"{dic[2][0]} : {dic[2][1]}\")\n",
    "        \n",
    "        continue\n",
    "\n",
    "    elif (num==1):\n",
    "        charity1 = charity1 + donation\n",
    "        charity = 'Al-Khidmat_1'\n",
    "    elif (num==2):\n",
    "        charity2 = charity2 + donation\n",
    "        charity = 'Edhi_2'\n",
    "    elif (num==3):\n",
    "        charity3 = charity3 + donation\n",
    "        charity = 'Kaar-e-Kamal_3'\n",
    "    \n",
    "    print(f\"\\nName of Charity is {charity}\")\n",
    "    print(f\"Amount of Donation is Rs. {donation}\")\n",
    "    print(\"\\nAre there any more customers? (Y/N)\")\n",
    "    more = input()\n",
    "    more = more.upper()\n",
    "    if (more == 'N'):\n",
    "        break\n",
    "\n",
    "dic = {'Al-Khidmat_1'  : charity1,\n",
    "       'Edhi_2'        : charity2, \n",
    "       'Kaar-e-Kamal_3': charity3}\n",
    "dic = list(sorted(dic.items(), key = lambda item:item[1], reverse = True))\n",
    "print(\"The Charities and their totals:\")\n",
    "print(f\"{dic[0][0]} : {dic[0][1]}\")\n",
    "print(f\"{dic[1][0]} : {dic[1][1]}\")\n",
    "print(f\"{dic[2][0]} : {dic[2][1]}\")\n",
    "\n",
    "grand_total = charity1 + charity2 + charity3\n",
    "print(f\"GRAND TOTAL DONATED TO CHARITY: Rs. {grand_total}\")"
   ]
  },
  {
   "cell_type": "code",
   "execution_count": null,
   "id": "e2ac0d47",
   "metadata": {},
   "outputs": [],
   "source": []
  }
 ],
 "metadata": {
  "kernelspec": {
   "display_name": "Python 3 (ipykernel)",
   "language": "python",
   "name": "python3"
  },
  "language_info": {
   "codemirror_mode": {
    "name": "ipython",
    "version": 3
   },
   "file_extension": ".py",
   "mimetype": "text/x-python",
   "name": "python",
   "nbconvert_exporter": "python",
   "pygments_lexer": "ipython3",
   "version": "3.9.18"
  }
 },
 "nbformat": 4,
 "nbformat_minor": 5
}
