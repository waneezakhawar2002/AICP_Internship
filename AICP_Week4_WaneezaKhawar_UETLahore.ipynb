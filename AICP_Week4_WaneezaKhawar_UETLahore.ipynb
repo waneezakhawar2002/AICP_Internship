{
 "cells": [
  {
   "cell_type": "code",
   "execution_count": 19,
   "id": "b91e1e02",
   "metadata": {},
   "outputs": [
    {
     "name": "stdout",
     "output_type": "stream",
     "text": [
      "Enter 1 to calculate area, perimeter, and sum of angles of hexagon.\n",
      "Enter 2 to calculate area and perimeter of square.\n",
      "Press any other key to exit.\n",
      "1\n",
      "Area of hexagon is: 20.784\n",
      "Perimeter of hexagon is: 48\n",
      "Sum of angles of hexagon is: 720\n",
      "\n",
      "Enter 1 to calculate area, perimeter, and sum of angles of hexagon.\n",
      "Enter 2 to calculate area and perimeter of square.\n",
      "Press any other key to exit.\n",
      "2\n",
      "Area of Square is: 81\n",
      "Perimeter of Square is: 36\n",
      "\n",
      "Enter 1 to calculate area, perimeter, and sum of angles of hexagon.\n",
      "Enter 2 to calculate area and perimeter of square.\n",
      "Press any other key to exit.\n",
      "3\n"
     ]
    }
   ],
   "source": [
    "class Hexagon:\n",
    "    def __init__(self, length):\n",
    "        self.length = length\n",
    "        \n",
    "    def calcArea(self):\n",
    "        hex_area = 1.5*1.732*self.length\n",
    "        return hex_area\n",
    "        \n",
    "    def calcPeri(self):\n",
    "        hex_peri = 6*self.length\n",
    "        return hex_peri\n",
    "        \n",
    "    def calcAngleSum(self):\n",
    "        hex_angle_sum = 6*120\n",
    "        return hex_angle_sum\n",
    "        \n",
    "    def display(self):\n",
    "        print(f\"Area of hexagon is: {self.calcArea()}\")\n",
    "        print(f\"Perimeter of hexagon is: {self.calcPeri()}\")\n",
    "        print(f\"Sum of angles of hexagon is: {self.calcAngleSum()}\\n\")\n",
    "              \n",
    "class Square:\n",
    "    def __init__(self, sq_length):\n",
    "        self.sq_length = sq_length\n",
    "        \n",
    "    def calcAreaSquare(self):\n",
    "        sq_area = self.sq_length * self.sq_length\n",
    "        return sq_area\n",
    "        \n",
    "    def calcPeriSquare(self):\n",
    "        sq_peri = 4*self.sq_length\n",
    "        return sq_peri\n",
    "        \n",
    "    def display(self):\n",
    "        print(f\"Area of Square is: {self.calcAreaSquare()}\")\n",
    "        print(f\"Perimeter of Square is: {self.calcPeriSquare()}\\n\")\n",
    "    \n",
    "while (1):\n",
    "    print(\"Enter 1 to calculate area, perimeter, and sum of angles of hexagon.\")\n",
    "    print(\"Enter 2 to calculate area and perimeter of square.\")\n",
    "    print(\"Press any other key to exit.\")\n",
    "    num = int(input())\n",
    "\n",
    "    if (num==1):\n",
    "        Hexagon = Hexagon(8)\n",
    "        Hexagon.display()\n",
    "    elif (num==2):\n",
    "        Square = Square(9)\n",
    "        Square.display()\n",
    "    else:\n",
    "        break\n",
    "    "
   ]
  },
  {
   "cell_type": "code",
   "execution_count": null,
   "id": "d54d25db",
   "metadata": {},
   "outputs": [],
   "source": []
  }
 ],
 "metadata": {
  "kernelspec": {
   "display_name": "Python 3 (ipykernel)",
   "language": "python",
   "name": "python3"
  },
  "language_info": {
   "codemirror_mode": {
    "name": "ipython",
    "version": 3
   },
   "file_extension": ".py",
   "mimetype": "text/x-python",
   "name": "python",
   "nbconvert_exporter": "python",
   "pygments_lexer": "ipython3",
   "version": "3.9.18"
  }
 },
 "nbformat": 4,
 "nbformat_minor": 5
}
