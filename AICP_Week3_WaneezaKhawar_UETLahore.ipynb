{
 "cells": [
  {
   "cell_type": "code",
   "execution_count": 13,
   "id": "6734d6ed",
   "metadata": {},
   "outputs": [
    {
     "name": "stdout",
     "output_type": "stream",
     "text": [
      "My Student ID is 2020-EE-51\n",
      "Enter your choice\n",
      "Press 1 to display the bill of slab 1 and slab 2.\n",
      "Press 2 to display the bill of slab 3.\n",
      "Press any other key to exit.\n",
      "1\n",
      "Bill for Slab 1 is\n",
      "550\t650\t750\t\n",
      "Bill for Slab 2 is\n",
      "1800\t2250\t2550\t\n",
      "\n",
      "My Student ID is 2020-EE-51\n",
      "Enter your choice\n",
      "Press 1 to display the bill of slab 1 and slab 2.\n",
      "Press 2 to display the bill of slab 3.\n",
      "Press any other key to exit.\n",
      "2\n",
      "Bill for Slab 3 is\n",
      "4200\t4600\t4800\t\n",
      "\n",
      "My Student ID is 2020-EE-51\n",
      "Enter your choice\n",
      "Press 1 to display the bill of slab 1 and slab 2.\n",
      "Press 2 to display the bill of slab 3.\n",
      "Press any other key to exit.\n",
      "3\n"
     ]
    }
   ],
   "source": [
    "def costSlab1(arr):\n",
    "    print(\"Bill for Slab 1 is\")\n",
    "    for i in range (len(arr[0])):\n",
    "        bill = arr[0][i]*10\n",
    "        print(f\"{bill}\\t\",end='')\n",
    "\n",
    "def costSlab2(arr):\n",
    "    print(\"\\nBill for Slab 2 is\")\n",
    "    for i in range (len(arr[1])):\n",
    "        bill = arr[1][i]*15\n",
    "        print(f\"{bill}\\t\",end='')\n",
    "    print('\\n')\n",
    "        \n",
    "def costSlab3(arr):\n",
    "    print(\"Bill for Slab 3 is\")\n",
    "    for i in range (len(arr[2])):\n",
    "        bill = arr[2][i]*20\n",
    "        print(f\"{bill}\\t\",end='')\n",
    "    print('\\n')\n",
    "\n",
    "\n",
    "arr = [[ 55,   65,   75],\n",
    "       [120,  150,  170],\n",
    "       [210,  230,  240]]\n",
    "\n",
    "while(True):\n",
    "    print(\"My Student ID is 2020-EE-51\")\n",
    "    print(\"Enter your choice\")\n",
    "    print(\"Press 1 to display the bill of slab 1 and slab 2.\")\n",
    "    print(\"Press 2 to display the bill of slab 3.\")\n",
    "    print(\"Press any other key to exit.\")\n",
    "    num = int(input())\n",
    "    if (num==1):\n",
    "        costSlab1(arr)\n",
    "        costSlab2(arr)\n",
    "    elif (num==2):\n",
    "        costSlab3(arr)\n",
    "    else:\n",
    "        break\n"
   ]
  },
  {
   "cell_type": "code",
   "execution_count": null,
   "id": "7486df4f",
   "metadata": {},
   "outputs": [],
   "source": []
  },
  {
   "cell_type": "code",
   "execution_count": null,
   "id": "85949806",
   "metadata": {},
   "outputs": [],
   "source": []
  }
 ],
 "metadata": {
  "kernelspec": {
   "display_name": "Python 3 (ipykernel)",
   "language": "python",
   "name": "python3"
  },
  "language_info": {
   "codemirror_mode": {
    "name": "ipython",
    "version": 3
   },
   "file_extension": ".py",
   "mimetype": "text/x-python",
   "name": "python",
   "nbconvert_exporter": "python",
   "pygments_lexer": "ipython3",
   "version": "3.9.18"
  }
 },
 "nbformat": 4,
 "nbformat_minor": 5
}
